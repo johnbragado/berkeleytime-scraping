{
 "cells": [
  {
   "cell_type": "code",
   "execution_count": 1,
   "id": "5fe0c3cf-8585-4b02-910c-2d5b7bf9afe0",
   "metadata": {},
   "outputs": [],
   "source": [
    "import pandas as pd\n",
    "import numpy as np\n",
    "\n",
    "import time\n",
    "import re\n",
    "\n",
    "import selenium\n",
    "from selenium import webdriver\n",
    "from selenium.webdriver.common.by import By\n",
    "from selenium.webdriver import ActionChains\n",
    "from selenium.webdriver import remote\n",
    "\n",
    "from bs4 import BeautifulSoup"
   ]
  },
  {
   "cell_type": "code",
   "execution_count": 2,
   "id": "63168728-856b-45ea-818a-49e10defb2fe",
   "metadata": {},
   "outputs": [],
   "source": [
    "def get_enrollment_stats(driver_):\n",
    "    soup_ = BeautifulSoup(driver_.page_source, 'html.parser')\n",
    "\n",
    "    # COURSE INFO (NAME, SEMESTER, INSTRUCTOR)\n",
    "    course_info_html = soup_.find('div', class_='enrollment-info')\n",
    "    course_name_string = course_info_html.find('div', class_='course').get_text()\n",
    "    sem_instr_string = re.findall(r'(.*) • (.*)', course_info_html.find('div', class_='info').get_text())[0]\n",
    "        # course_info_data = [course_name_string, sem_instr_string[0], sem_instr_string[1]]\n",
    "\n",
    "    stat_section_html = soup_.find('div', class_='stat-section')\n",
    "    \n",
    "    # EXTRACT X DAYS AFTER PHASE: (DAYS, PHASE(STR))\n",
    "    days_string = stat_section_html.find('div', class_='date').get_text()\n",
    "    days_data = re.findall(r'(.*) Days After (.*)', days_string)[0]\n",
    "        # days_data = [int(days_data[0]), str(days_data[1])]\n",
    "    \n",
    "    # EXTRACT ENROLLMENT COUNTS: (ENROLLED, MAX)\n",
    "    enrolled_count_string = stat_section_html.find('div', class_=\"enrolled-stat\").find('span', class_=[\"bt-indicator-red\", \"bt-indicator-orange\", \"bt-indicator-green\"]).get_text()\n",
    "    enrolled_count_data = re.findall(r'(\\d*)/(\\d*)', enrolled_count_string)[0]\n",
    "        # enrolled_count_data = [int(enrolled_count_data[0]), int(enrolled_count_data[1])]\n",
    "    \n",
    "    # EXTRACT WAITLIST COUNTS: (WAITLISTED, MAX)\n",
    "    waitlisted_count_string = stat_section_html.find('div', class_=\"waitlisted-stat\").find('span', class_=[\"bt-indicator-red\", \"bt-indicator-orange\", \"bt-indicator-green\"]).get_text()\n",
    "    waitlisted_count_data = re.findall(r'(\\d*)/(\\d*)', waitlisted_count_string)[0]\n",
    "    waitlisted_count_data = [int(waitlisted_count_data[0]), int(waitlisted_count_data[1])]\n",
    "        # return course_info_data, days_data, enrolled_count_data, waitlisted_count_data\n",
    "    return {'Course': course_name_string,\n",
    "            'Semester': sem_instr_string[0],\n",
    "            'Instructor': sem_instr_string[1],\n",
    "            'Days After': int(days_data[0]),\n",
    "            'Phase': str(days_data[1]),\n",
    "            'Enrolled Count': int(enrolled_count_data[0]),\n",
    "            'Enrolled Max': int(enrolled_count_data[1]),\n",
    "            'Waitlisted Count': int(waitlisted_count_data[0]),\n",
    "            'Waitlisted Max': int(waitlisted_count_data[1])}"
   ]
  },
  {
   "cell_type": "code",
   "execution_count": 3,
   "id": "400525e5-043c-4eaf-943b-3900d8600551",
   "metadata": {},
   "outputs": [],
   "source": [
    "# obtain width of recharts wrapper\n",
    "def get_chart_width(driver):\n",
    "    soup1 = BeautifulSoup(driver.page_source, 'html.parser')\n",
    "    chart_width = int(soup1.find('clippath', id='recharts1-clip').find('rect').get('width'))\n",
    "    return chart_width"
   ]
  },
  {
   "cell_type": "code",
   "execution_count": 4,
   "id": "c8fdec4c-9550-4501-acec-199d0c3ef05d",
   "metadata": {},
   "outputs": [],
   "source": [
    "def scraping_pipeline(url):\n",
    "    driver = webdriver.Chrome()\n",
    "    driver.get(url)\n",
    "    \n",
    "    time.sleep(2)\n",
    "    \n",
    "    chart_width = get_chart_width(driver)\n",
    "    PX_per_step = 3\n",
    "    \n",
    "    # set mouse to  \n",
    "    canvas = driver.find_element(By.ID, \"recharts1-clip\").find_element(By.TAG_NAME, 'rect')\n",
    "    ActionChains(driver) \\\n",
    "        .move_to_element_with_offset(canvas, chart_width*(-1/2), 0) \\\n",
    "        .perform()\n",
    "    \n",
    "    data_i = 0\n",
    "    prev_i = 1\n",
    "\n",
    "    scraped_dataset = pd.DataFrame(columns=\n",
    "                                   ['Course', 'Semester', 'Instructor',\n",
    "                                    'Days After', 'Phase',\n",
    "                                    'Enrolled Count', 'Enrolled Max',\n",
    "                                    'Waitlisted Count', 'Waitlisted Max'])\n",
    "    \n",
    "    for i in range(int(chart_width / PX_per_step)):\n",
    "        ActionChains(driver) \\\n",
    "            .move_by_offset(PX_per_step, 0) \\\n",
    "            .click() \\\n",
    "            .perform()\n",
    "        data_i = get_enrollment_stats(driver)    \n",
    "        if data_i != prev_i:\n",
    "            scraped_dataset.loc[len(scraped_dataset)] = data_i\n",
    "        prev_i = data_i\n",
    "        # print(prev_i, data_i)\n",
    "    return scraped_dataset"
   ]
  },
  {
   "cell_type": "code",
   "execution_count": 5,
   "id": "cc4cc356-08a2-41c5-813c-d34f2765fb03",
   "metadata": {},
   "outputs": [],
   "source": [
    "e1 = scraping_pipeline(\"https://berkeleytime.com/enrollment/1-20674-fall-2024-512736\")"
   ]
  },
  {
   "cell_type": "code",
   "execution_count": null,
   "id": "bad49d85-3ba5-4da4-82cf-a67ade150f85",
   "metadata": {},
   "outputs": [],
   "source": []
  }
 ],
 "metadata": {
  "kernelspec": {
   "display_name": "Python 3 (ipykernel)",
   "language": "python",
   "name": "python3"
  },
  "language_info": {
   "codemirror_mode": {
    "name": "ipython",
    "version": 3
   },
   "file_extension": ".py",
   "mimetype": "text/x-python",
   "name": "python",
   "nbconvert_exporter": "python",
   "pygments_lexer": "ipython3",
   "version": "3.12.4"
  }
 },
 "nbformat": 4,
 "nbformat_minor": 5
}
