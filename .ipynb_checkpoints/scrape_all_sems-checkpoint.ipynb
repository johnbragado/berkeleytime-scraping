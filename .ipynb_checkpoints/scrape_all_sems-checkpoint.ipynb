{
 "cells": [
  {
   "cell_type": "code",
   "execution_count": 4,
   "id": "bba12a0c-90e8-48cd-8864-4f456666bfd3",
   "metadata": {},
   "outputs": [],
   "source": [
    "import pandas as pd\n",
    "import numpy as np\n",
    "\n",
    "import time\n",
    "import re\n",
    "\n",
    "import selenium\n",
    "from selenium import webdriver\n",
    "from selenium.webdriver.common.by import By\n",
    "from selenium.webdriver import ActionChains\n",
    "from selenium.webdriver import remote\n",
    "\n",
    "from bs4 import BeautifulSoup"
   ]
  },
  {
   "cell_type": "code",
   "execution_count": 28,
   "id": "1a4847f5-e886-4902-9475-6b293381f21c",
   "metadata": {},
   "outputs": [],
   "source": [
    "def select_course(course_name, func):\n",
    "    driver = webdriver.Chrome()\n",
    "    driver.get(\"https://berkeleytime.com/enrollment/\")\n",
    "\n",
    "    time.sleep(2)\n",
    "    \n",
    "    course_selector = driver.find_element(By.ID, \"react-select-2-placeholder\")\n",
    "    ActionChains(driver) \\\n",
    "        .click(course_selector) \\\n",
    "        .send_keys(course_name) \\\n",
    "        .perform()\n",
    "    course_dropdown = driver.find_element(By.CLASS_NAME, \"css-1nmdiq5-menu\")\n",
    "    first_option = course_dropdown.find_element(By.CLASS_NAME, \"css-10wo9uf-option\")\n",
    "    ActionChains(driver) \\\n",
    "        .click(first_option) \\\n",
    "        .perform()"
   ]
  },
  {
   "cell_type": "code",
   "execution_count": 29,
   "id": "e7e4861c-be5a-47cd-a03b-4ae1bb3ff951",
   "metadata": {},
   "outputs": [],
   "source": [
    "e = select_course(\"COMPSCI 61A\",\"\")"
   ]
  },
  {
   "cell_type": "code",
   "execution_count": 23,
   "id": "003d47cd-216e-412a-b42e-a6d92b63d4e7",
   "metadata": {},
   "outputs": [
    {
     "name": "stdout",
     "output_type": "stream",
     "text": [
      "<div class=\"css-1nmdiq5-menu\">\n",
      " <div style=\"position: relative; height: 200px; width: 100%; overflow: auto; will-change: transform; direction: ltr;\">\n",
      "  <div style=\"height: 2580px; width: 100%;\">\n",
      "   <div style=\"position: absolute; left: 0px; top: 0px; height: 40px; width: 100%;\">\n",
      "    <div>\n",
      "     <div aria-disabled=\"false\" aria-selected=\"false\" class=\"css-10wo9uf-option\" id=\"react-select-2-option-0\" role=\"option\" tabindex=\"-1\">\n",
      "      COMPSCI 61A\n",
      "     </div>\n",
      "    </div>\n",
      "   </div>\n",
      "   <div style=\"position: absolute; left: 0px; top: 40px; height: 40px; width: 100%;\">\n",
      "    <div>\n",
      "     <div aria-disabled=\"false\" aria-selected=\"false\" class=\"css-10wo9uf-option\" id=\"react-select-2-option-1\" role=\"option\" tabindex=\"-1\">\n",
      "      COMPSCI 61AS\n",
      "     </div>\n",
      "    </div>\n",
      "   </div>\n",
      "   <div style=\"position: absolute; left: 0px; top: 80px; height: 40px; width: 100%;\">\n",
      "    <div>\n",
      "     <div aria-disabled=\"false\" aria-selected=\"false\" class=\"css-10wo9uf-option\" id=\"react-select-2-option-2\" role=\"option\" tabindex=\"-1\">\n",
      "      COMPSCI W61A\n",
      "     </div>\n",
      "    </div>\n",
      "   </div>\n",
      "   <div style=\"position: absolute; left: 0px; top: 120px; height: 40px; width: 100%;\">\n",
      "    <div>\n",
      "     <div aria-disabled=\"false\" aria-selected=\"false\" class=\"css-10wo9uf-option\" id=\"react-select-2-option-3\" role=\"option\" tabindex=\"-1\">\n",
      "      COMPSCI 61B\n",
      "     </div>\n",
      "    </div>\n",
      "   </div>\n",
      "   <div style=\"position: absolute; left: 0px; top: 160px; height: 40px; width: 100%;\">\n",
      "    <div>\n",
      "     <div aria-disabled=\"false\" aria-selected=\"false\" class=\"css-10wo9uf-option\" id=\"react-select-2-option-4\" role=\"option\" tabindex=\"-1\">\n",
      "      COMPSCI 61BL\n",
      "     </div>\n",
      "    </div>\n",
      "   </div>\n",
      "   <div style=\"position: absolute; left: 0px; top: 200px; height: 40px; width: 100%;\">\n",
      "    <div>\n",
      "     <div aria-disabled=\"false\" aria-selected=\"false\" class=\"css-10wo9uf-option\" id=\"react-select-2-option-5\" role=\"option\" tabindex=\"-1\">\n",
      "      COMPSCI 61C\n",
      "     </div>\n",
      "    </div>\n",
      "   </div>\n",
      "   <div style=\"position: absolute; left: 0px; top: 240px; height: 40px; width: 100%;\">\n",
      "    <div>\n",
      "     <div aria-disabled=\"false\" aria-selected=\"false\" class=\"css-10wo9uf-option\" id=\"react-select-2-option-6\" role=\"option\" tabindex=\"-1\">\n",
      "      COMPSCI 10\n",
      "     </div>\n",
      "    </div>\n",
      "   </div>\n",
      "  </div>\n",
      " </div>\n",
      "</div>\n",
      "\n"
     ]
    }
   ],
   "source": [
    "soup_ = BeautifulSoup(e, 'html.parser')\n",
    "print(soup_.prettify())"
   ]
  },
  {
   "cell_type": "code",
   "execution_count": null,
   "id": "f65e07fb-f670-47ea-9ad8-7eea84e1b23d",
   "metadata": {},
   "outputs": [],
   "source": []
  }
 ],
 "metadata": {
  "kernelspec": {
   "display_name": "Python 3 (ipykernel)",
   "language": "python",
   "name": "python3"
  },
  "language_info": {
   "codemirror_mode": {
    "name": "ipython",
    "version": 3
   },
   "file_extension": ".py",
   "mimetype": "text/x-python",
   "name": "python",
   "nbconvert_exporter": "python",
   "pygments_lexer": "ipython3",
   "version": "3.12.4"
  }
 },
 "nbformat": 4,
 "nbformat_minor": 5
}
